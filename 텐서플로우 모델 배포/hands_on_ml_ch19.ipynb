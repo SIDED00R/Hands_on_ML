{
  "cells": [
    {
      "cell_type": "code",
      "execution_count": 1,
      "metadata": {
        "id": "FaAaR0zXeqzq"
      },
      "outputs": [],
      "source": [
        "import sys\n",
        "import sklearn\n",
        "import tensorflow as tf\n",
        "from tensorflow import keras\n",
        "import numpy as np\n",
        "import os\n",
        "import matplotlib.pyplot as plt"
      ]
    },
    {
      "cell_type": "code",
      "execution_count": 2,
      "metadata": {
        "colab": {
          "base_uri": "https://localhost:8080/"
        },
        "id": "BuiDVVfmeqzs",
        "outputId": "290b471d-8527-4df8-9a1e-40723228d21d"
      },
      "outputs": [
        {
          "output_type": "stream",
          "name": "stdout",
          "text": [
            "Downloading data from https://storage.googleapis.com/tensorflow/tf-keras-datasets/mnist.npz\n",
            "11490434/11490434 [==============================] - 2s 0us/step\n"
          ]
        }
      ],
      "source": [
        "# MNIST학습 모델 만들기\n",
        "\n",
        "(X_train_full, y_train_full), (X_test, y_test) = keras.datasets.mnist.load_data()\n",
        "X_train_full = X_train_full[..., np.newaxis].astype(np.float32) / 255.\n",
        "X_test = X_test[..., np.newaxis].astype(np.float32) / 255.\n",
        "X_valid, X_train = X_train_full[:5000], X_train_full[5000:]\n",
        "y_valid, y_train = y_train_full[:5000], y_train_full[5000:]\n",
        "X_new = X_test[:3]"
      ]
    },
    {
      "cell_type": "code",
      "execution_count": 3,
      "metadata": {
        "colab": {
          "base_uri": "https://localhost:8080/"
        },
        "id": "LFDoSJ2_eqzs",
        "outputId": "26d66fb6-c79d-4dfc-e2af-918a86a83e1a"
      },
      "outputs": [
        {
          "output_type": "stream",
          "name": "stdout",
          "text": [
            "Epoch 1/10\n",
            "1719/1719 [==============================] - 12s 4ms/step - loss: 0.6996 - accuracy: 0.8233 - val_loss: 0.3685 - val_accuracy: 0.9006\n",
            "Epoch 2/10\n",
            "1719/1719 [==============================] - 10s 6ms/step - loss: 0.3479 - accuracy: 0.9033 - val_loss: 0.2950 - val_accuracy: 0.9164\n",
            "Epoch 3/10\n",
            "1719/1719 [==============================] - 8s 4ms/step - loss: 0.2970 - accuracy: 0.9167 - val_loss: 0.2611 - val_accuracy: 0.9272\n",
            "Epoch 4/10\n",
            "1719/1719 [==============================] - 5s 3ms/step - loss: 0.2665 - accuracy: 0.9252 - val_loss: 0.2357 - val_accuracy: 0.9346\n",
            "Epoch 5/10\n",
            "1719/1719 [==============================] - 5s 3ms/step - loss: 0.2436 - accuracy: 0.9314 - val_loss: 0.2186 - val_accuracy: 0.9398\n",
            "Epoch 6/10\n",
            "1719/1719 [==============================] - 6s 3ms/step - loss: 0.2256 - accuracy: 0.9367 - val_loss: 0.2061 - val_accuracy: 0.9410\n",
            "Epoch 7/10\n",
            "1719/1719 [==============================] - 5s 3ms/step - loss: 0.2105 - accuracy: 0.9410 - val_loss: 0.1926 - val_accuracy: 0.9480\n",
            "Epoch 8/10\n",
            "1719/1719 [==============================] - 6s 4ms/step - loss: 0.1971 - accuracy: 0.9450 - val_loss: 0.1826 - val_accuracy: 0.9500\n",
            "Epoch 9/10\n",
            "1719/1719 [==============================] - 5s 3ms/step - loss: 0.1857 - accuracy: 0.9477 - val_loss: 0.1765 - val_accuracy: 0.9514\n",
            "Epoch 10/10\n",
            "1719/1719 [==============================] - 6s 4ms/step - loss: 0.1758 - accuracy: 0.9506 - val_loss: 0.1667 - val_accuracy: 0.9560\n"
          ]
        },
        {
          "output_type": "execute_result",
          "data": {
            "text/plain": [
              "<keras.src.callbacks.History at 0x79f39a4a7a30>"
            ]
          },
          "metadata": {},
          "execution_count": 3
        }
      ],
      "source": [
        "model = keras.models.Sequential([\n",
        "    keras.layers.Flatten(input_shape=[28, 28, 1]),\n",
        "    keras.layers.Dense(100, activation=\"relu\"),\n",
        "    keras.layers.Dense(10, activation=\"softmax\")\n",
        "])\n",
        "model.compile(loss=\"sparse_categorical_crossentropy\",\n",
        "              optimizer=keras.optimizers.SGD(learning_rate=1e-2),\n",
        "              metrics=[\"accuracy\"])\n",
        "model.fit(X_train, y_train, epochs=10, validation_data=(X_valid, y_valid))"
      ]
    },
    {
      "cell_type": "code",
      "execution_count": 4,
      "metadata": {
        "colab": {
          "base_uri": "https://localhost:8080/",
          "height": 35
        },
        "id": "_DVgEWQ9eqzs",
        "outputId": "9bd76665-ae2c-4813-8fd2-9ab0e1a8df9e"
      },
      "outputs": [
        {
          "output_type": "execute_result",
          "data": {
            "text/plain": [
              "'my_mnist_model/0001'"
            ],
            "application/vnd.google.colaboratory.intrinsic+json": {
              "type": "string"
            }
          },
          "metadata": {},
          "execution_count": 4
        }
      ],
      "source": [
        "# 내보낼 모델 위치 정보\n",
        "\n",
        "model_version = \"0001\"\n",
        "model_name = \"my_mnist_model\"\n",
        "model_path = os.path.join(model_name, model_version)\n",
        "model_path"
      ]
    },
    {
      "cell_type": "code",
      "execution_count": 5,
      "metadata": {
        "id": "7TWc75Jdeqzt"
      },
      "outputs": [],
      "source": [
        "# 모델 내보내기\n",
        "\n",
        "tf.saved_model.save(model, model_path)"
      ]
    },
    {
      "cell_type": "code",
      "execution_count": 6,
      "metadata": {
        "colab": {
          "base_uri": "https://localhost:8080/"
        },
        "id": "GB2l1c0keqzu",
        "outputId": "4771a85c-fb07-4318-865f-cfeabf34135e",
        "scrolled": true
      },
      "outputs": [
        {
          "output_type": "stream",
          "name": "stdout",
          "text": [
            "my_mnist_model/\n",
            "    0001/\n",
            "        fingerprint.pb\n",
            "        saved_model.pb\n",
            "        variables/\n",
            "            variables.index\n",
            "            variables.data-00000-of-00001\n",
            "        assets/\n"
          ]
        }
      ],
      "source": [
        "for root, dirs, files in os.walk(model_name):\n",
        "    indent = '    ' * root.count(os.sep)\n",
        "    print('{}{}/'.format(indent, os.path.basename(root)))\n",
        "    for filename in files:\n",
        "        print('{}{}'.format(indent + '    ', filename))"
      ]
    },
    {
      "cell_type": "markdown",
      "metadata": {
        "id": "Mah2bGWNp7Hm"
      },
      "source": [
        "계산 그래프를 정의한 saved_model.pb와 변수값을 담고 있는 variables 그리고 부가적인 데이터가 들어있는 assets이 있다."
      ]
    },
    {
      "cell_type": "code",
      "execution_count": null,
      "metadata": {
        "id": "8zy-ak-Ceqzv"
      },
      "outputs": [],
      "source": [
        "# saved_model_cli로 저장된 모델 검사\n",
        "\n",
        "!saved_model_cli show --dir {model_path} --all"
      ]
    },
    {
      "cell_type": "code",
      "source": [
        "url = \"https://storage.googleapis.com/tensorflow-serving-apt\"\n",
        "src = \"stable tensorflow-model-server tensorflow-model-server-universal\"\n",
        "!echo 'deb {url} {src}' > /etc/apt/sources.list.d/tensorflow-serving.list\n",
        "!curl '{url}/tensorflow-serving.release.pub.gpg' | apt-key add -\n",
        "!apt update -q && apt-get install -y tensorflow-model-server\n",
        "%pip install -q -U tensorflow-serving-api"
      ],
      "metadata": {
        "id": "3x6QB6vOqz99"
      },
      "execution_count": null,
      "outputs": []
    },
    {
      "cell_type": "code",
      "execution_count": 9,
      "metadata": {
        "id": "WtfISO8Weqzx"
      },
      "outputs": [],
      "source": [
        "# 서버 실행\n",
        "\n",
        "os.environ[\"MODEL_DIR\"] = os.path.split(os.path.abspath(model_path))[0]"
      ]
    },
    {
      "cell_type": "code",
      "source": [
        "%%bash --bg\n",
        "nohup tensorflow_model_server \\\n",
        "     --rest_api_port=8501 \\\n",
        "     --model_name=my_mnist_model \\\n",
        "     --model_base_path=\"${MODEL_DIR}\" >server.log 2>&1\n",
        "\n",
        "!tail server.log"
      ],
      "metadata": {
        "id": "VLTYi-zdrIk-"
      },
      "execution_count": 10,
      "outputs": []
    },
    {
      "cell_type": "code",
      "execution_count": 11,
      "metadata": {
        "id": "9KsCQA1qeqzx"
      },
      "outputs": [],
      "source": [
        "# 쿼리를 위한 JSON 데이터\n",
        "\n",
        "import json\n",
        "\n",
        "input_data_json = json.dumps({\n",
        "    \"signature_name\": \"serving_default\",\n",
        "    \"instances\": X_new.tolist(),\n",
        "})"
      ]
    },
    {
      "cell_type": "code",
      "execution_count": 12,
      "metadata": {
        "colab": {
          "base_uri": "https://localhost:8080/",
          "height": 35
        },
        "id": "jNnmz0gDeqzx",
        "outputId": "4901cdd8-d44d-47fe-9131-2f6b4b737467"
      },
      "outputs": [
        {
          "output_type": "execute_result",
          "data": {
            "text/plain": [
              "'{\"signature_name\": \"serving_default\", \"instances\": [[[[0.0], [0.0], [0.0], [0.0], [0.0], [0.0], [0.0... [0.0]]]]}'"
            ],
            "application/vnd.google.colaboratory.intrinsic+json": {
              "type": "string"
            }
          },
          "metadata": {},
          "execution_count": 12
        }
      ],
      "source": [
        "input_data_json[:100] + \"...\" + input_data_json[-10:]"
      ]
    },
    {
      "cell_type": "code",
      "execution_count": 14,
      "metadata": {
        "id": "MNEwLu__eqzy"
      },
      "outputs": [],
      "source": [
        "# HTTP POST 매서드로 TF 서빙에 전송\n",
        "\n",
        "import requests\n",
        "\n",
        "SERVER_URL = 'http://localhost:8501/v1/models/my_mnist_model:predict'\n",
        "response = requests.post(SERVER_URL, data=input_data_json)\n",
        "response.raise_for_status()\n",
        "response = response.json()"
      ]
    },
    {
      "cell_type": "code",
      "execution_count": 15,
      "metadata": {
        "id": "BvY_iV0oeqzy",
        "colab": {
          "base_uri": "https://localhost:8080/"
        },
        "outputId": "a1bfecc0-37b9-458b-b720-0ba0ff699239"
      },
      "outputs": [
        {
          "output_type": "execute_result",
          "data": {
            "text/plain": [
              "dict_keys(['predictions'])"
            ]
          },
          "metadata": {},
          "execution_count": 15
        }
      ],
      "source": [
        "# 응답\n",
        "\n",
        "response.keys()"
      ]
    },
    {
      "cell_type": "code",
      "execution_count": 16,
      "metadata": {
        "id": "uuXB0Gj2eqzy",
        "colab": {
          "base_uri": "https://localhost:8080/"
        },
        "outputId": "7bdd0a71-4c53-44b1-80ec-d1d757fe595f"
      },
      "outputs": [
        {
          "output_type": "execute_result",
          "data": {
            "text/plain": [
              "array([[0.  , 0.  , 0.  , 0.  , 0.  , 0.  , 0.  , 1.  , 0.  , 0.  ],\n",
              "       [0.  , 0.  , 0.97, 0.01, 0.  , 0.  , 0.01, 0.  , 0.  , 0.  ],\n",
              "       [0.  , 0.98, 0.01, 0.  , 0.  , 0.  , 0.  , 0.01, 0.  , 0.  ]])"
            ]
          },
          "metadata": {},
          "execution_count": 16
        }
      ],
      "source": [
        "y_proba = np.array(response[\"predictions\"])\n",
        "y_proba.round(2)"
      ]
    },
    {
      "cell_type": "markdown",
      "source": [
        "모델이 첫 번째 이미지를 7이라고 예측하고 두 번째 이미지를 2, 세 번째 이미지를 1로 예측한다.\n",
        "\n",
        "REST API는 JSON기반이기 때문에 텍스트를 사용한다.\n",
        "\n",
        "따라서 모든 실수와 문자열 간의 변환을 위해 비효율적인 표현방식을 사용하여 큰 넘파이 배열을 전송할 때 응답속도가 느리다는 단점이 있다."
      ],
      "metadata": {
        "id": "QnIMbaEmF-Zh"
      }
    },
    {
      "cell_type": "code",
      "execution_count": 17,
      "metadata": {
        "id": "-czoZOoBeqzy"
      },
      "outputs": [],
      "source": [
        "# gRPC API 사용하기\n",
        "\n",
        "from tensorflow_serving.apis.predict_pb2 import PredictRequest\n",
        "\n",
        "request = PredictRequest()\n",
        "request.model_spec.name = model_name\n",
        "request.model_spec.signature_name = \"serving_default\"\n",
        "input_name = model.input_names[0]\n",
        "request.inputs[input_name].CopyFrom(tf.make_tensor_proto(X_new))"
      ]
    },
    {
      "cell_type": "code",
      "execution_count": 20,
      "metadata": {
        "id": "_h1YKSAseqzy",
        "colab": {
          "base_uri": "https://localhost:8080/"
        },
        "outputId": "994b90be-36bb-42bf-8cc1-1f9888a02def"
      },
      "outputs": [
        {
          "output_type": "execute_result",
          "data": {
            "text/plain": [
              "outputs {\n",
              "  key: \"dense_1\"\n",
              "  value {\n",
              "    dtype: DT_FLOAT\n",
              "    tensor_shape {\n",
              "      dim {\n",
              "        size: 3\n",
              "      }\n",
              "      dim {\n",
              "        size: 10\n",
              "      }\n",
              "    }\n",
              "    float_val: 5.527950270334259e-05\n",
              "    float_val: 5.7247678597605045e-08\n",
              "    float_val: 0.0005158474668860435\n",
              "    float_val: 0.0025093748699873686\n",
              "    float_val: 5.276315846458601e-07\n",
              "    float_val: 0.00011779415217461064\n",
              "    float_val: 9.380375587397793e-09\n",
              "    float_val: 0.9965420365333557\n",
              "    float_val: 2.7229811166762374e-05\n",
              "    float_val: 0.0002318693877896294\n",
              "    float_val: 0.0007611507317051291\n",
              "    float_val: 0.0002578407875262201\n",
              "    float_val: 0.974459707736969\n",
              "    float_val: 0.01315978541970253\n",
              "    float_val: 1.2955864825414665e-08\n",
              "    float_val: 0.002541010733693838\n",
              "    float_val: 0.007578456774353981\n",
              "    float_val: 1.6366380251042756e-08\n",
              "    float_val: 0.001242046244442463\n",
              "    float_val: 8.777319315811383e-09\n",
              "    float_val: 4.369686939753592e-05\n",
              "    float_val: 0.9818556904792786\n",
              "    float_val: 0.005598597228527069\n",
              "    float_val: 0.0017973309149965644\n",
              "    float_val: 0.00044527638237923384\n",
              "    float_val: 0.0010953479213640094\n",
              "    float_val: 0.001400505192577839\n",
              "    float_val: 0.005885691847652197\n",
              "    float_val: 0.0015264146495610476\n",
              "    float_val: 0.00035147886956110597\n",
              "  }\n",
              "}\n",
              "model_spec {\n",
              "  name: \"my_mnist_model\"\n",
              "  version {\n",
              "    value: 1\n",
              "  }\n",
              "  signature_name: \"serving_default\"\n",
              "}"
            ]
          },
          "metadata": {},
          "execution_count": 20
        }
      ],
      "source": [
        "import grpc\n",
        "from tensorflow_serving.apis import prediction_service_pb2_grpc\n",
        "\n",
        "channel = grpc.insecure_channel('localhost:8500') # gRPC 통신 채널\n",
        "predict_service = prediction_service_pb2_grpc.PredictionServiceStub(channel)\n",
        "response = predict_service.Predict(request, timeout=10.0)\n",
        "response"
      ]
    },
    {
      "cell_type": "code",
      "execution_count": 21,
      "metadata": {
        "colab": {
          "base_uri": "https://localhost:8080/"
        },
        "id": "BmFrLI1Keqz3",
        "outputId": "a0b52cd4-466c-4efb-ad95-d329b840f7e7",
        "scrolled": true
      },
      "outputs": [
        {
          "output_type": "execute_result",
          "data": {
            "text/plain": [
              "array([[0.  , 0.  , 0.  , 0.  , 0.  , 0.  , 0.  , 1.  , 0.  , 0.  ],\n",
              "       [0.  , 0.  , 0.97, 0.01, 0.  , 0.  , 0.01, 0.  , 0.  , 0.  ],\n",
              "       [0.  , 0.98, 0.01, 0.  , 0.  , 0.  , 0.  , 0.01, 0.  , 0.  ]],\n",
              "      dtype=float32)"
            ]
          },
          "metadata": {},
          "execution_count": 21
        }
      ],
      "source": [
        "# 응답을 텐서로 변환\n",
        "\n",
        "output_name = model.output_names[0]\n",
        "outputs_proto = response.outputs[output_name]\n",
        "y_proba = tf.make_ndarray(outputs_proto)\n",
        "y_proba.round(2)"
      ]
    },
    {
      "cell_type": "code",
      "execution_count": 22,
      "metadata": {
        "colab": {
          "base_uri": "https://localhost:8080/"
        },
        "id": "M-85OZiUeqz4",
        "outputId": "3bc84e10-6dff-4d5f-8275-7c3f820e5c48",
        "scrolled": true
      },
      "outputs": [
        {
          "output_type": "stream",
          "name": "stdout",
          "text": [
            "Epoch 1/10\n",
            "1719/1719 [==============================] - 12s 5ms/step - loss: 0.7531 - accuracy: 0.7928 - val_loss: 0.3501 - val_accuracy: 0.8992\n",
            "Epoch 2/10\n",
            "1719/1719 [==============================] - 8s 5ms/step - loss: 0.3295 - accuracy: 0.9050 - val_loss: 0.2716 - val_accuracy: 0.9240\n",
            "Epoch 3/10\n",
            "1719/1719 [==============================] - 11s 6ms/step - loss: 0.2795 - accuracy: 0.9198 - val_loss: 0.2374 - val_accuracy: 0.9330\n",
            "Epoch 4/10\n",
            "1719/1719 [==============================] - 9s 5ms/step - loss: 0.2477 - accuracy: 0.9291 - val_loss: 0.2126 - val_accuracy: 0.9406\n",
            "Epoch 5/10\n",
            "1719/1719 [==============================] - 8s 5ms/step - loss: 0.2220 - accuracy: 0.9374 - val_loss: 0.1932 - val_accuracy: 0.9474\n",
            "Epoch 6/10\n",
            "1719/1719 [==============================] - 11s 6ms/step - loss: 0.2002 - accuracy: 0.9432 - val_loss: 0.1794 - val_accuracy: 0.9512\n",
            "Epoch 7/10\n",
            "1719/1719 [==============================] - 6s 3ms/step - loss: 0.1825 - accuracy: 0.9481 - val_loss: 0.1642 - val_accuracy: 0.9542\n",
            "Epoch 8/10\n",
            "1719/1719 [==============================] - 7s 4ms/step - loss: 0.1675 - accuracy: 0.9520 - val_loss: 0.1528 - val_accuracy: 0.9588\n",
            "Epoch 9/10\n",
            "1719/1719 [==============================] - 8s 5ms/step - loss: 0.1553 - accuracy: 0.9560 - val_loss: 0.1444 - val_accuracy: 0.9604\n",
            "Epoch 10/10\n",
            "1719/1719 [==============================] - 10s 6ms/step - loss: 0.1445 - accuracy: 0.9585 - val_loss: 0.1395 - val_accuracy: 0.9634\n"
          ]
        }
      ],
      "source": [
        "# 새로운 버전의 모델 배포하기\n",
        "\n",
        "model = keras.models.Sequential([\n",
        "    keras.layers.Flatten(input_shape=[28, 28, 1]),\n",
        "    keras.layers.Dense(50, activation=\"relu\"),\n",
        "    keras.layers.Dense(50, activation=\"relu\"),\n",
        "    keras.layers.Dense(10, activation=\"softmax\")\n",
        "])\n",
        "model.compile(loss=\"sparse_categorical_crossentropy\",\n",
        "              optimizer=keras.optimizers.SGD(learning_rate=1e-2),\n",
        "              metrics=[\"accuracy\"])\n",
        "history = model.fit(X_train, y_train, epochs=10, validation_data=(X_valid, y_valid))"
      ]
    },
    {
      "cell_type": "code",
      "execution_count": 23,
      "metadata": {
        "id": "lpIs6yAoeqz4"
      },
      "outputs": [],
      "source": [
        "model_version = \"0002\"\n",
        "model_name = \"my_mnist_model\"\n",
        "model_path = os.path.join(model_name, model_version)\n",
        "tf.saved_model.save(model, model_path)"
      ]
    },
    {
      "cell_type": "code",
      "execution_count": 24,
      "metadata": {
        "colab": {
          "base_uri": "https://localhost:8080/"
        },
        "id": "PHU6iuq2eqz5",
        "outputId": "409b674d-5e1c-419a-92a7-cec44bc5b612"
      },
      "outputs": [
        {
          "output_type": "stream",
          "name": "stdout",
          "text": [
            "my_mnist_model/\n",
            "    0002/\n",
            "        fingerprint.pb\n",
            "        saved_model.pb\n",
            "        variables/\n",
            "            variables.index\n",
            "            variables.data-00000-of-00001\n",
            "        assets/\n",
            "    0001/\n",
            "        fingerprint.pb\n",
            "        saved_model.pb\n",
            "        variables/\n",
            "            variables.index\n",
            "            variables.data-00000-of-00001\n",
            "        assets/\n"
          ]
        }
      ],
      "source": [
        "for root, dirs, files in os.walk(model_name):\n",
        "    indent = '    ' * root.count(os.sep)\n",
        "    print('{}{}/'.format(indent, os.path.basename(root)))\n",
        "    for filename in files:\n",
        "        print('{}{}'.format(indent + '    ', filename))"
      ]
    },
    {
      "cell_type": "markdown",
      "source": [
        "새로운 버전이 추가된 것을 볼 수 있다."
      ],
      "metadata": {
        "id": "15cGm_3YLrO0"
      }
    },
    {
      "cell_type": "code",
      "execution_count": 25,
      "metadata": {
        "id": "wyuLcz2Peqz6",
        "colab": {
          "base_uri": "https://localhost:8080/"
        },
        "outputId": "8d54e6c1-0006-43c5-ca62-a32d15d6b76b"
      },
      "outputs": [
        {
          "output_type": "execute_result",
          "data": {
            "text/plain": [
              "array([[0.  , 0.  , 0.  , 0.  , 0.  , 0.  , 0.  , 1.  , 0.  , 0.  ],\n",
              "       [0.  , 0.  , 0.99, 0.01, 0.  , 0.  , 0.  , 0.  , 0.  , 0.  ],\n",
              "       [0.  , 0.98, 0.  , 0.  , 0.  , 0.  , 0.  , 0.  , 0.  , 0.  ]])"
            ]
          },
          "metadata": {},
          "execution_count": 25
        }
      ],
      "source": [
        "import requests\n",
        "\n",
        "SERVER_URL = 'http://localhost:8501/v1/models/my_mnist_model:predict'\n",
        "\n",
        "response = requests.post(SERVER_URL, data=input_data_json)\n",
        "response.raise_for_status()\n",
        "response = response.json()\n",
        "\n",
        "y_proba = np.array(response[\"predictions\"])\n",
        "y_proba.round(2)"
      ]
    },
    {
      "cell_type": "markdown",
      "source": [
        "응답도 잘 되었다."
      ],
      "metadata": {
        "id": "0dKNchFEL4q7"
      }
    },
    {
      "cell_type": "code",
      "execution_count": 26,
      "metadata": {
        "colab": {
          "base_uri": "https://localhost:8080/"
        },
        "id": "AvIWvq4Ieqz8",
        "outputId": "a92a6d48-acd6-4ac1-b324-d3e19cd4be03"
      },
      "outputs": [
        {
          "output_type": "execute_result",
          "data": {
            "text/plain": [
              "[PhysicalDevice(name='/physical_device:GPU:0', device_type='GPU')]"
            ]
          },
          "metadata": {},
          "execution_count": 26
        }
      ],
      "source": [
        "# GPU 사용하여 계산 속도 높이기\n",
        "\n",
        "tf.config.list_physical_devices('GPU')"
      ]
    },
    {
      "cell_type": "code",
      "execution_count": 27,
      "metadata": {
        "colab": {
          "base_uri": "https://localhost:8080/"
        },
        "id": "b4duzuzbeqz9",
        "outputId": "9aee1cb2-e715-441e-951b-02cad16f1e1f"
      },
      "outputs": [
        {
          "output_type": "execute_result",
          "data": {
            "text/plain": [
              "[name: \"/device:CPU:0\"\n",
              " device_type: \"CPU\"\n",
              " memory_limit: 268435456\n",
              " locality {\n",
              " }\n",
              " incarnation: 12060627275045159122\n",
              " xla_global_id: -1,\n",
              " name: \"/device:GPU:0\"\n",
              " device_type: \"GPU\"\n",
              " memory_limit: 14357954560\n",
              " locality {\n",
              "   bus_id: 1\n",
              "   links {\n",
              "   }\n",
              " }\n",
              " incarnation: 10270904221930885266\n",
              " physical_device_desc: \"device: 0, name: Tesla T4, pci bus id: 0000:00:04.0, compute capability: 7.5\"\n",
              " xla_global_id: 416903419]"
            ]
          },
          "metadata": {},
          "execution_count": 27
        }
      ],
      "source": [
        "from tensorflow.python.client.device_lib import list_local_devices\n",
        "\n",
        "devices = list_local_devices()\n",
        "devices"
      ]
    },
    {
      "cell_type": "code",
      "execution_count": 28,
      "metadata": {
        "id": "4eku1lWmeqz-"
      },
      "outputs": [],
      "source": [
        "def create_model():\n",
        "    return keras.models.Sequential([\n",
        "        keras.layers.Conv2D(filters=64, kernel_size=7, activation=\"relu\",\n",
        "                            padding=\"same\", input_shape=[28, 28, 1]),\n",
        "        keras.layers.MaxPooling2D(pool_size=2),\n",
        "        keras.layers.Conv2D(filters=128, kernel_size=3, activation=\"relu\",\n",
        "                            padding=\"same\"),\n",
        "        keras.layers.Conv2D(filters=128, kernel_size=3, activation=\"relu\",\n",
        "                            padding=\"same\"),\n",
        "        keras.layers.MaxPooling2D(pool_size=2),\n",
        "        keras.layers.Flatten(),\n",
        "        keras.layers.Dense(units=64, activation='relu'),\n",
        "        keras.layers.Dropout(0.5),\n",
        "        keras.layers.Dense(units=10, activation='softmax'),\n",
        "    ])"
      ]
    },
    {
      "cell_type": "code",
      "execution_count": 30,
      "metadata": {
        "id": "hdECs9yDeqz_",
        "colab": {
          "base_uri": "https://localhost:8080/"
        },
        "outputId": "2ad05cba-3d26-4f1f-ed93-f4bd11b2fc85"
      },
      "outputs": [
        {
          "output_type": "stream",
          "name": "stdout",
          "text": [
            "Epoch 1/10\n",
            "550/550 [==============================] - 7s 11ms/step - loss: 1.4183 - accuracy: 0.5408 - val_loss: 0.3987 - val_accuracy: 0.8854\n",
            "Epoch 2/10\n",
            "550/550 [==============================] - 7s 13ms/step - loss: 0.4944 - accuracy: 0.8493 - val_loss: 0.2031 - val_accuracy: 0.9428\n",
            "Epoch 3/10\n",
            "550/550 [==============================] - 7s 12ms/step - loss: 0.3290 - accuracy: 0.9027 - val_loss: 0.1386 - val_accuracy: 0.9626\n",
            "Epoch 4/10\n",
            "550/550 [==============================] - 5s 10ms/step - loss: 0.2534 - accuracy: 0.9274 - val_loss: 0.1054 - val_accuracy: 0.9694\n",
            "Epoch 5/10\n",
            "550/550 [==============================] - 6s 11ms/step - loss: 0.2124 - accuracy: 0.9386 - val_loss: 0.0911 - val_accuracy: 0.9744\n",
            "Epoch 6/10\n",
            "550/550 [==============================] - 5s 9ms/step - loss: 0.1811 - accuracy: 0.9482 - val_loss: 0.0826 - val_accuracy: 0.9762\n",
            "Epoch 7/10\n",
            "550/550 [==============================] - 5s 10ms/step - loss: 0.1599 - accuracy: 0.9533 - val_loss: 0.0720 - val_accuracy: 0.9794\n",
            "Epoch 8/10\n",
            "550/550 [==============================] - 6s 11ms/step - loss: 0.1485 - accuracy: 0.9570 - val_loss: 0.0670 - val_accuracy: 0.9814\n",
            "Epoch 9/10\n",
            "550/550 [==============================] - 5s 10ms/step - loss: 0.1389 - accuracy: 0.9610 - val_loss: 0.0663 - val_accuracy: 0.9804\n",
            "Epoch 10/10\n",
            "550/550 [==============================] - 5s 10ms/step - loss: 0.1290 - accuracy: 0.9631 - val_loss: 0.0597 - val_accuracy: 0.9828\n"
          ]
        },
        {
          "output_type": "execute_result",
          "data": {
            "text/plain": [
              "<keras.src.callbacks.History at 0x79f390415f00>"
            ]
          },
          "metadata": {},
          "execution_count": 30
        }
      ],
      "source": [
        "# 분산 전략 API를 사용해 대규모 훈련\n",
        "\n",
        "distribution = tf.distribute.MirroredStrategy()\n",
        "\n",
        "with distribution.scope():\n",
        "    model = create_model()\n",
        "    model.compile(loss=\"sparse_categorical_crossentropy\",\n",
        "                  optimizer=keras.optimizers.SGD(learning_rate=1e-2),\n",
        "                  metrics=[\"accuracy\"])\n",
        "\n",
        "batch_size = 100\n",
        "model.fit(X_train, y_train, epochs=10, validation_data=(X_valid, y_valid), batch_size=batch_size)"
      ]
    },
    {
      "cell_type": "code",
      "execution_count": 31,
      "metadata": {
        "colab": {
          "base_uri": "https://localhost:8080/"
        },
        "id": "mS7dbjq_eqz_",
        "outputId": "01cec0fc-bbc6-485f-ec45-07014f21e9f3"
      },
      "outputs": [
        {
          "output_type": "stream",
          "name": "stdout",
          "text": [
            "1/1 [==============================] - 0s 461ms/step\n"
          ]
        },
        {
          "output_type": "execute_result",
          "data": {
            "text/plain": [
              "array([[0., 0., 0., 0., 0., 0., 0., 1., 0., 0.],\n",
              "       [0., 0., 1., 0., 0., 0., 0., 0., 0., 0.],\n",
              "       [0., 1., 0., 0., 0., 0., 0., 0., 0., 0.]], dtype=float32)"
            ]
          },
          "metadata": {},
          "execution_count": 31
        }
      ],
      "source": [
        "model.predict(X_new).round(2)"
      ]
    },
    {
      "cell_type": "code",
      "execution_count": 35,
      "metadata": {
        "colab": {
          "base_uri": "https://localhost:8080/"
        },
        "id": "n0lZpJAaeq0A",
        "outputId": "b94dd3a0-5d36-4d97-8a68-801043572555"
      },
      "outputs": [
        {
          "output_type": "stream",
          "name": "stdout",
          "text": [
            "Epoch 1/10\n",
            "Loss: 0.432\n",
            "Epoch 2/10\n",
            "Loss: 0.321\n",
            "Epoch 3/10\n",
            "Loss: 0.280\n",
            "Epoch 4/10\n",
            "Loss: 0.264\n",
            "Epoch 5/10\n",
            "Loss: 0.255\n",
            "Epoch 6/10\n",
            "Loss: 0.251\n",
            "Epoch 7/10\n",
            "Loss: 0.245\n",
            "Epoch 8/10\n",
            "Loss: 0.239\n",
            "Epoch 9/10\n",
            "Loss: 0.238\n",
            "Epoch 10/10\n",
            "Loss: 0.234\n"
          ]
        }
      ],
      "source": [
        "# 사용자 정의 훈련 루프\n",
        "\n",
        "K = keras.backend\n",
        "\n",
        "distribution = tf.distribute.MirroredStrategy()\n",
        "\n",
        "with distribution.scope():\n",
        "    model = create_model()\n",
        "    optimizer = keras.optimizers.SGD()\n",
        "\n",
        "with distribution.scope():\n",
        "    dataset = tf.data.Dataset.from_tensor_slices((X_train, y_train)).repeat().batch(batch_size)\n",
        "    input_iterator = distribution.make_dataset_iterator(dataset)\n",
        "\n",
        "@tf.function\n",
        "def train_step():\n",
        "    def step_fn(inputs):\n",
        "        X, y = inputs\n",
        "        with tf.GradientTape() as tape:\n",
        "            Y_proba = model(X)\n",
        "            loss = K.sum(keras.losses.sparse_categorical_crossentropy(y, Y_proba)) / batch_size\n",
        "\n",
        "        grads = tape.gradient(loss, model.trainable_variables)\n",
        "        optimizer.apply_gradients(zip(grads, model.trainable_variables))\n",
        "        return loss\n",
        "\n",
        "    per_replica_losses = distribution.experimental_run(step_fn, input_iterator)\n",
        "    mean_loss = distribution.reduce(tf.distribute.ReduceOp.SUM,\n",
        "                                    per_replica_losses, axis=None)\n",
        "    return mean_loss\n",
        "\n",
        "n_epochs = 10\n",
        "with distribution.scope():\n",
        "    input_iterator.initializer\n",
        "    for epoch in range(n_epochs):\n",
        "        print(\"Epoch {}/{}\".format(epoch + 1, n_epochs))\n",
        "        for iteration in range(len(X_train) // batch_size):\n",
        "            print(\"\\rLoss: {:.3f}\".format(train_step().numpy()), end=\"\")\n",
        "        print()"
      ]
    },
    {
      "cell_type": "markdown",
      "metadata": {
        "id": "mPcpG03Qeq0A"
      },
      "source": [
        "텐서플로 클러스터는 일반적으로 여러 서버에서 병렬로 실행되는 텐서플로 프로세스의 그룹이다.\n",
        "\n",
        "신경망을 훈련하거나 실행하는 작업을 완료하기 위해 프로세스가 서로 대화하는데, 클러스터에 있는 개별 TF 프로세스를 TF 서버라고 하고, TF 서버는 IP 주소, 포트, 타입을 가진다.\n",
        "\n",
        "이때 타입은 worker, chief, ps, evaluator가 있다.\n",
        "\n",
        " - 여기서 worker는 일반적으로 하나 이상의 GPU를 가진 머신에서 계산을 수행한다.\n",
        "\n",
        " - chief도 계산을 수행 하지만 텐서 보드 로그를 기록하거나 체크포인트를 저장하는 등의 추가적인 작업을 처리한다.\n",
        "\n",
        "  클러스터에는 하나의 치프가 있고 일반적으로 첫 번째 워커가 치프이다.\n",
        "\n",
        " - 파라미터 서버(ps)는 일반적으로 CPU만 가진 머신으로 변수 값만 가지고 있다.\n",
        "\n",
        " - evaluator는 평가를 담당하고, 일반적으로 클러스터 내에 하나의 evaluator가 있다.\n",
        "\n",
        "텐서플로 클러스터를 시작하려면 먼저 모든 TF 서버를 지정해야 한다."
      ]
    },
    {
      "cell_type": "code",
      "execution_count": 36,
      "metadata": {
        "id": "pW34uJ09eq0B"
      },
      "outputs": [],
      "source": [
        "# 텐서플로 클러스테에서 모델 훈련\n",
        "\n",
        "cluster_spec = {\n",
        "    \"worker\": [\n",
        "        \"machine-a.example.com:2222\",  # /job:worker/task:0\n",
        "        \"machine-b.example.com:2222\"   # /job:worker/task:1\n",
        "    ],\n",
        "    \"ps\": [\"machine-c.example.com:2222\"] # /job:ps/task:0\n",
        "}"
      ]
    },
    {
      "cell_type": "code",
      "execution_count": 37,
      "metadata": {
        "colab": {
          "base_uri": "https://localhost:8080/",
          "height": 35
        },
        "id": "CkzCAUNUeq0B",
        "outputId": "c20d055a-7623-4da5-82ed-1714996b7423"
      },
      "outputs": [
        {
          "output_type": "execute_result",
          "data": {
            "text/plain": [
              "'{\"cluster\": {\"worker\": [\"machine-a.example.com:2222\", \"machine-b.example.com:2222\"], \"ps\": [\"machine-c.example.com:2222\"]}, \"task\": {\"type\": \"worker\", \"index\": 1}}'"
            ],
            "application/vnd.google.colaboratory.intrinsic+json": {
              "type": "string"
            }
          },
          "metadata": {},
          "execution_count": 37
        }
      ],
      "source": [
        "# 다른 태스크와 통신하기 위해 방화벽 설치\n",
        "\n",
        "os.environ[\"TF_CONFIG\"] = json.dumps({\n",
        "    \"cluster\": cluster_spec,\n",
        "    \"task\": {\"type\": \"worker\", \"index\": 1}\n",
        "})\n",
        "os.environ[\"TF_CONFIG\"]"
      ]
    },
    {
      "cell_type": "code",
      "execution_count": 38,
      "metadata": {
        "colab": {
          "base_uri": "https://localhost:8080/"
        },
        "id": "M9nxJ6dseq0B",
        "outputId": "82494a38-c9fc-4579-85ac-ce98d7bf46b8"
      },
      "outputs": [
        {
          "output_type": "execute_result",
          "data": {
            "text/plain": [
              "ClusterSpec({'ps': ['machine-c.example.com:2222'], 'worker': ['machine-a.example.com:2222', 'machine-b.example.com:2222']})"
            ]
          },
          "metadata": {},
          "execution_count": 38
        }
      ],
      "source": [
        "resolver = tf.distribute.cluster_resolver.TFConfigClusterResolver()\n",
        "resolver.cluster_spec()"
      ]
    },
    {
      "cell_type": "code",
      "execution_count": 40,
      "metadata": {
        "colab": {
          "base_uri": "https://localhost:8080/"
        },
        "id": "1s5exRi3eq0C",
        "outputId": "b65d6d9f-a323-4b2f-b9fa-e735c5a5ef23"
      },
      "outputs": [
        {
          "output_type": "stream",
          "name": "stdout",
          "text": [
            "Writing my_mnist_multiworker_task.py\n"
          ]
        }
      ],
      "source": [
        "%%writefile my_mnist_multiworker_task.py\n",
        "\n",
        "import os\n",
        "import numpy as np\n",
        "import tensorflow as tf\n",
        "from tensorflow import keras\n",
        "import time\n",
        "\n",
        "distribution = tf.distribute.MultiWorkerMirroredStrategy()\n",
        "\n",
        "resolver = tf.distribute.cluster_resolver.TFConfigClusterResolver()\n",
        "print(\"Starting task {}{}\".format(resolver.task_type, resolver.task_id))\n",
        "\n",
        "# 워커 #0이 체크포인트 저장과 텐서보드 로깅을 수행\n",
        "if resolver.task_id == 0:\n",
        "    root_logdir = os.path.join(os.curdir, \"my_mnist_multiworker_logs\")\n",
        "    run_id = time.strftime(\"run_%Y_%m_%d-%H_%M_%S\")\n",
        "    run_dir = os.path.join(root_logdir, run_id)\n",
        "    callbacks = [\n",
        "        keras.callbacks.TensorBoard(run_dir),\n",
        "        keras.callbacks.ModelCheckpoint(\"my_mnist_multiworker_model.h5\",\n",
        "                                        save_best_only=True),\n",
        "    ]\n",
        "else:\n",
        "    callbacks = []\n",
        "\n",
        "# MNIST 데이터셋을 불러오기\n",
        "(X_train_full, y_train_full), (X_test, y_test) = keras.datasets.mnist.load_data()\n",
        "X_train_full = X_train_full[..., np.newaxis] / 255.\n",
        "X_valid, X_train = X_train_full[:5000], X_train_full[5000:]\n",
        "y_valid, y_train = y_train_full[:5000], y_train_full[5000:]\n",
        "\n",
        "with distribution.scope():\n",
        "    model = keras.models.Sequential([\n",
        "        keras.layers.Conv2D(filters=64, kernel_size=7, activation=\"relu\",\n",
        "                            padding=\"same\", input_shape=[28, 28, 1]),\n",
        "        keras.layers.MaxPooling2D(pool_size=2),\n",
        "        keras.layers.Conv2D(filters=128, kernel_size=3, activation=\"relu\",\n",
        "                            padding=\"same\"),\n",
        "        keras.layers.Conv2D(filters=128, kernel_size=3, activation=\"relu\",\n",
        "                            padding=\"same\"),\n",
        "        keras.layers.MaxPooling2D(pool_size=2),\n",
        "        keras.layers.Flatten(),\n",
        "        keras.layers.Dense(units=64, activation='relu'),\n",
        "        keras.layers.Dropout(0.5),\n",
        "        keras.layers.Dense(units=10, activation='softmax'),\n",
        "    ])\n",
        "    model.compile(loss=\"sparse_categorical_crossentropy\",\n",
        "                  optimizer=keras.optimizers.SGD(learning_rate=1e-2),\n",
        "                  metrics=[\"accuracy\"])\n",
        "\n",
        "model.fit(X_train, y_train, validation_data=(X_valid, y_valid),\n",
        "          epochs=10, callbacks=callbacks)"
      ]
    },
    {
      "cell_type": "code",
      "execution_count": 41,
      "metadata": {
        "id": "M7O7aByleq0D"
      },
      "outputs": [],
      "source": [
        "# subprocess 모델을 사용해 두 워커를 각각의 개별 프로세스로 시작\n",
        "\n",
        "import subprocess\n",
        "\n",
        "cluster_spec = {\"worker\": [\"127.0.0.1:9901\", \"127.0.0.1:9902\"]}\n",
        "\n",
        "for index, worker_address in enumerate(cluster_spec[\"worker\"]):\n",
        "    os.environ[\"TF_CONFIG\"] = json.dumps({\n",
        "        \"cluster\": cluster_spec,\n",
        "        \"task\": {\"type\": \"worker\", \"index\": index}\n",
        "    })\n",
        "    subprocess.Popen(\"python my_mnist_multiworker_task.py\", shell=True)"
      ]
    },
    {
      "cell_type": "code",
      "source": [],
      "metadata": {
        "id": "V6v89ekLTDuw"
      },
      "execution_count": null,
      "outputs": []
    }
  ],
  "metadata": {
    "accelerator": "GPU",
    "colab": {
      "gpuType": "T4",
      "provenance": []
    },
    "kernelspec": {
      "display_name": "Python 3 (ipykernel)",
      "language": "python",
      "name": "python3"
    },
    "language_info": {
      "codemirror_mode": {
        "name": "ipython",
        "version": 3
      },
      "file_extension": ".py",
      "mimetype": "text/x-python",
      "name": "python",
      "nbconvert_exporter": "python",
      "pygments_lexer": "ipython3",
      "version": "3.11.5"
    }
  },
  "nbformat": 4,
  "nbformat_minor": 0
}